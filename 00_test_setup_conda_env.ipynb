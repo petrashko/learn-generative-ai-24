{
 "cells": [
  {
   "cell_type": "code",
   "execution_count": null,
   "id": "65ccf783-49d2-48ad-a00f-82f88717bf9f",
   "metadata": {},
   "outputs": [],
   "source": [
    "# import os, sys\n",
    "# sep = os.sep\n",
    "# # Добавить в путь до родительской папки\\n\",\n",
    "# sys.path.append(os.path.join(sys.path[0], f'..{sep}'))\n",
    "# #sys.path.append(os.path.join(os.getcwd(), f'..{sep}'))"
   ]
  },
  {
   "cell_type": "code",
   "execution_count": 1,
   "id": "8a9f5c2e-8a0b-4702-949a-9c2d109efaa1",
   "metadata": {
    "editable": true,
    "slideshow": {
     "slide_type": ""
    },
    "tags": []
   },
   "outputs": [],
   "source": [
    "import torch, torchvision, torchaudio"
   ]
  },
  {
   "cell_type": "code",
   "execution_count": 2,
   "id": "ef67debb-265c-4e3e-8419-0409109440de",
   "metadata": {},
   "outputs": [
    {
     "name": "stdout",
     "output_type": "stream",
     "text": [
      "cuda\n"
     ]
    },
    {
     "data": {
      "text/plain": [
       "('2.5.1', '0.20.1', '2.5.1')"
      ]
     },
     "execution_count": 2,
     "metadata": {},
     "output_type": "execute_result"
    }
   ],
   "source": [
    "device = 'cuda' if torch.cuda.is_available() else 'cpu'\n",
    "print(device)\n",
    "\n",
    "torch.__version__, torchvision.__version__, torchaudio.__version__"
   ]
  },
  {
   "cell_type": "code",
   "execution_count": null,
   "id": "50857f1e-7787-45e0-99f6-3012e365133a",
   "metadata": {},
   "outputs": [],
   "source": []
  }
 ],
 "metadata": {
  "kernelspec": {
   "display_name": "Python (dgai)",
   "language": "python",
   "name": "dgai"
  },
  "language_info": {
   "codemirror_mode": {
    "name": "ipython",
    "version": 3
   },
   "file_extension": ".py",
   "mimetype": "text/x-python",
   "name": "python",
   "nbconvert_exporter": "python",
   "pygments_lexer": "ipython3",
   "version": "3.12.7"
  }
 },
 "nbformat": 4,
 "nbformat_minor": 5
}
