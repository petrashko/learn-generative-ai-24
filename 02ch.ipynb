{
 "cells": [
  {
   "cell_type": "code",
   "execution_count": 1,
   "id": "2b5044a0-5a4d-4d7b-a5e2-6cf64a330a9b",
   "metadata": {},
   "outputs": [],
   "source": [
    "# import os, sys\n",
    "# sep = os.sep\n",
    "# # Добавить в путь до родительской папки\\n\",\n",
    "# sys.path.append(os.path.join(sys.path[0], f'..{sep}'))\n",
    "# #sys.path.append(os.path.join(os.getcwd(), f'..{sep}'))"
   ]
  },
  {
   "cell_type": "code",
   "execution_count": 2,
   "id": "57273998-d0b2-47f6-8340-360c062ae5a1",
   "metadata": {},
   "outputs": [],
   "source": [
    "import numpy as np\n",
    "import matplotlib.pyplot as plt\n",
    "#\n",
    "import torch\n",
    "import torch.nn as nn\n",
    "import torchvision\n",
    "import torchvision.transforms as T\n",
    "\n",
    "%matplotlib inline"
   ]
  },
  {
   "cell_type": "markdown",
   "id": "a1bfd982-475d-4df0-95eb-41ac382a1a69",
   "metadata": {},
   "source": [
    "# 1. Data Types in PyTorch "
   ]
  },
  {
   "cell_type": "code",
   "execution_count": 3,
   "id": "4e96bbf7-2792-4818-9788-129381c0e103",
   "metadata": {},
   "outputs": [],
   "source": [
    "heights = [\n",
    "    189, 170, 189, 163, 183, 171, 185,\n",
    "    168, 173, 183, 173, 173, 175, 178,\n",
    "    183, 193, 178, 173, 174, 183, 183,\n",
    "    180, 168, 180, 170, 178, 182, 180,\n",
    "    183, 178, 182, 188, 175, 179, 183,\n",
    "    193, 182, 183, 177, 185, 188, 188,\n",
    "    182, 185, 191, 183\n",
    "]"
   ]
  },
  {
   "cell_type": "code",
   "execution_count": 4,
   "id": "75f75d0a-f7a8-49ff-a3e2-94cad34b8c8f",
   "metadata": {},
   "outputs": [
    {
     "data": {
      "text/plain": [
       "tensor([189., 170., 189., 163., 183., 171., 185., 168., 173., 183., 173., 173.,\n",
       "        175., 178., 183., 193., 178., 173., 174., 183., 183., 180., 168., 180.,\n",
       "        170., 178., 182., 180., 183., 178., 182., 188., 175., 179., 183., 193.,\n",
       "        182., 183., 177., 185., 188., 188., 182., 185., 191., 183.],\n",
       "       dtype=torch.float64)"
      ]
     },
     "execution_count": 4,
     "metadata": {},
     "output_type": "execute_result"
    }
   ],
   "source": [
    "heights_tensor = torch.tensor(heights, dtype=torch.float64)\n",
    "heights_tensor"
   ]
  },
  {
   "cell_type": "code",
   "execution_count": 5,
   "id": "ec601a1f-70f2-4a68-bd20-869d21de094f",
   "metadata": {},
   "outputs": [
    {
     "name": "stdout",
     "output_type": "stream",
     "text": [
      "tensor([1, 2, 3], dtype=torch.int32)\n",
      "tensor([1, 2, 3], dtype=torch.int32)\n"
     ]
    }
   ],
   "source": [
    "t1=torch.IntTensor([1, 2, 3])\n",
    "t2=torch.tensor([1, 2, 3], dtype=torch.int)\n",
    "\n",
    "print(t1)\n",
    "print(t2)"
   ]
  },
  {
   "cell_type": "code",
   "execution_count": 6,
   "id": "090ee82b-8189-41df-92bd-eb8c3c5c96f3",
   "metadata": {},
   "outputs": [
    {
     "name": "stdout",
     "output_type": "stream",
     "text": [
      "tensor([[0., 0., 0.],\n",
      "        [0., 0., 0.]])\n"
     ]
    }
   ],
   "source": [
    "tensor1 = torch.zeros(2, 3)\n",
    "print(tensor1)"
   ]
  },
  {
   "cell_type": "code",
   "execution_count": 7,
   "id": "2331354b-f450-4718-8228-877f28c3bc64",
   "metadata": {},
   "outputs": [
    {
     "name": "stdout",
     "output_type": "stream",
     "text": [
      "tensor([[[1., 1., 1., 1., 1.],\n",
      "         [1., 1., 1., 1., 1.],\n",
      "         [1., 1., 1., 1., 1.],\n",
      "         [1., 1., 1., 1., 1.]]])\n"
     ]
    }
   ],
   "source": [
    "tensor2 = torch.ones(1, 4, 5)\n",
    "print(tensor2)"
   ]
  },
  {
   "cell_type": "code",
   "execution_count": 8,
   "id": "f9bca3f9-9ff7-446c-8c8f-33a9c5780f1c",
   "metadata": {},
   "outputs": [
    {
     "name": "stdout",
     "output_type": "stream",
     "text": [
      "tensor([0, 1, 2, 3, 4, 5, 6, 7, 8, 9], dtype=torch.int32)\n"
     ]
    }
   ],
   "source": [
    "nparr = np.array(range(10))\n",
    "\n",
    "pt_tensor = torch.tensor(nparr, dtype=torch.int)\n",
    "print(pt_tensor)"
   ]
  },
  {
   "cell_type": "code",
   "execution_count": 9,
   "id": "fd6d5b3b-9a61-4810-bfdb-3ed5b1c3b1ac",
   "metadata": {},
   "outputs": [
    {
     "name": "stdout",
     "output_type": "stream",
     "text": [
      "tensor(189., dtype=torch.float64)\n"
     ]
    }
   ],
   "source": [
    "height = heights_tensor[2]\n",
    "print(height)"
   ]
  },
  {
   "cell_type": "code",
   "execution_count": 10,
   "id": "16cfdea7-581d-4caf-badd-78c1b805d4ba",
   "metadata": {},
   "outputs": [
    {
     "name": "stdout",
     "output_type": "stream",
     "text": [
      "tensor(191., dtype=torch.float64)\n"
     ]
    }
   ],
   "source": [
    "height = heights_tensor[-2]\n",
    "print(height)"
   ]
  },
  {
   "cell_type": "code",
   "execution_count": 11,
   "id": "716c2d6f-0ee4-40e1-8477-719a5fa1fe2e",
   "metadata": {},
   "outputs": [
    {
     "name": "stdout",
     "output_type": "stream",
     "text": [
      "tensor([188., 182., 185., 191., 183.], dtype=torch.float64)\n"
     ]
    }
   ],
   "source": [
    "five_heights = heights_tensor[-5:]\n",
    "print(five_heights)"
   ]
  },
  {
   "cell_type": "code",
   "execution_count": 12,
   "id": "e98ef6e8-216b-47bb-920f-7dae79198b4a",
   "metadata": {},
   "outputs": [
    {
     "name": "stdout",
     "output_type": "stream",
     "text": [
      "torch.Size([46])\n"
     ]
    }
   ],
   "source": [
    "print(heights_tensor.shape)"
   ]
  },
  {
   "cell_type": "code",
   "execution_count": 13,
   "id": "b5ae0999-16f0-4264-b38e-a21ef7582c55",
   "metadata": {},
   "outputs": [
    {
     "name": "stdout",
     "output_type": "stream",
     "text": [
      "tensor([6.2008, 5.5774, 6.2008, 5.3478, 6.0039, 5.6102, 6.0696, 5.5118, 5.6759,\n",
      "        6.0039, 5.6759, 5.6759, 5.7415, 5.8399, 6.0039, 6.3320, 5.8399, 5.6759,\n",
      "        5.7087, 6.0039, 6.0039, 5.9055, 5.5118, 5.9055, 5.5774, 5.8399, 5.9711,\n",
      "        5.9055, 6.0039, 5.8399, 5.9711, 6.1680, 5.7415, 5.8727, 6.0039, 6.3320,\n",
      "        5.9711, 6.0039, 5.8071, 6.0696, 6.1680, 6.1680, 5.9711, 6.0696, 6.2664,\n",
      "        6.0039], dtype=torch.float64)\n"
     ]
    }
   ],
   "source": [
    "heights_in_feet = heights_tensor / 30.48\n",
    "print(heights_in_feet)"
   ]
  },
  {
   "cell_type": "code",
   "execution_count": 14,
   "id": "df1efa9f-ce61-4dfc-83f2-ebc17e939379",
   "metadata": {},
   "outputs": [
    {
     "name": "stdout",
     "output_type": "stream",
     "text": [
      "torch.Size([92])\n"
     ]
    }
   ],
   "source": [
    "heights_2_measures = torch.cat([heights_tensor, heights_in_feet], dim=0)\n",
    "#print(heights_2_measures)\n",
    "print(heights_2_measures.shape)"
   ]
  },
  {
   "cell_type": "code",
   "execution_count": 15,
   "id": "f6643bf2-2c88-42ff-a0de-b47728fc3104",
   "metadata": {},
   "outputs": [
    {
     "name": "stdout",
     "output_type": "stream",
     "text": [
      "tensor([[189.0000, 170.0000, 189.0000, 163.0000, 183.0000, 171.0000, 185.0000,\n",
      "         168.0000, 173.0000, 183.0000, 173.0000, 173.0000, 175.0000, 178.0000,\n",
      "         183.0000, 193.0000, 178.0000, 173.0000, 174.0000, 183.0000, 183.0000,\n",
      "         180.0000, 168.0000, 180.0000, 170.0000, 178.0000, 182.0000, 180.0000,\n",
      "         183.0000, 178.0000, 182.0000, 188.0000, 175.0000, 179.0000, 183.0000,\n",
      "         193.0000, 182.0000, 183.0000, 177.0000, 185.0000, 188.0000, 188.0000,\n",
      "         182.0000, 185.0000, 191.0000, 183.0000],\n",
      "        [  6.2008,   5.5774,   6.2008,   5.3478,   6.0039,   5.6102,   6.0696,\n",
      "           5.5118,   5.6759,   6.0039,   5.6759,   5.6759,   5.7415,   5.8399,\n",
      "           6.0039,   6.3320,   5.8399,   5.6759,   5.7087,   6.0039,   6.0039,\n",
      "           5.9055,   5.5118,   5.9055,   5.5774,   5.8399,   5.9711,   5.9055,\n",
      "           6.0039,   5.8399,   5.9711,   6.1680,   5.7415,   5.8727,   6.0039,\n",
      "           6.3320,   5.9711,   6.0039,   5.8071,   6.0696,   6.1680,   6.1680,\n",
      "           5.9711,   6.0696,   6.2664,   6.0039]], dtype=torch.float64)\n"
     ]
    }
   ],
   "source": [
    "heights_reshaped = heights_2_measures.reshape(2, 46)\n",
    "print(heights_reshaped)"
   ]
  },
  {
   "cell_type": "code",
   "execution_count": 16,
   "id": "610288b1-624a-4f2c-82b8-3bb7eacae690",
   "metadata": {},
   "outputs": [
    {
     "name": "stdout",
     "output_type": "stream",
     "text": [
      "tensor(6.2664, dtype=torch.float64)\n"
     ]
    }
   ],
   "source": [
    "print(heights_reshaped[1,-2])"
   ]
  },
  {
   "cell_type": "code",
   "execution_count": 17,
   "id": "9de932e7-15aa-401f-8d98-41037805d235",
   "metadata": {},
   "outputs": [
    {
     "name": "stdout",
     "output_type": "stream",
     "text": [
      "tensor(182., dtype=torch.float64)\n"
     ]
    }
   ],
   "source": [
    "print(torch.median(heights_reshaped[0, :]))"
   ]
  },
  {
   "cell_type": "code",
   "execution_count": 18,
   "id": "05adaa39-c1fc-49c0-8fe2-fa65836bbdb6",
   "metadata": {},
   "outputs": [
    {
     "name": "stdout",
     "output_type": "stream",
     "text": [
      "tensor([180.0652,   5.9077], dtype=torch.float64)\n"
     ]
    }
   ],
   "source": [
    "# dim=1: По каждой строке (свертка колонок)\n",
    "print(torch.mean(heights_reshaped, dim=1))"
   ]
  },
  {
   "cell_type": "code",
   "execution_count": 19,
   "id": "ec3eddac-ce38-4c49-8d8b-95d6543fb3cf",
   "metadata": {},
   "outputs": [
    {
     "name": "stdout",
     "output_type": "stream",
     "text": [
      "tensor([193.0000,   6.3320], dtype=torch.float64)\n",
      "tensor([15, 15])\n"
     ]
    }
   ],
   "source": [
    "# dim=1: По каждой строке (свертка колонок)\n",
    "values, indices = torch.max(heights_reshaped, dim=1)\n",
    "\n",
    "print(values)\n",
    "print(indices)"
   ]
  },
  {
   "cell_type": "markdown",
   "id": "07037588-3656-4dfe-841d-27e8530b78d6",
   "metadata": {},
   "source": [
    "# 2. An End-to-End Deep Learning Project with PyTorch"
   ]
  },
  {
   "cell_type": "code",
   "execution_count": 20,
   "id": "08769f93-15c4-4fbd-9738-12af356e106b",
   "metadata": {},
   "outputs": [],
   "source": [
    "torch.manual_seed(42)\n",
    "\n",
    "transform = T.Compose([\n",
    "    # Converts image pixels to PyTorch tensors\n",
    "    # From range [0, 255] to range [0.0, 1.0]\n",
    "    T.ToTensor(),\n",
    "    # Normalizes the values to the range [–1.0, 1.0]\n",
    "    # вычитаем 0.5 из данных и разделить разницу на 0.5\n",
    "    T.Normalize([0.5], [0.5])\n",
    "])\n",
    "\n",
    "# Нормализация входных данных до диапазона [–1, 1]\n",
    "# позволяет градиентному спуску работать более эффективно"
   ]
  },
  {
   "cell_type": "code",
   "execution_count": 21,
   "id": "1fce1be9-f41c-4ed2-8dd0-a0185ab7b221",
   "metadata": {},
   "outputs": [],
   "source": [
    "train_set = torchvision.datasets.FashionMNIST( # Which dataset to download\n",
    "    root='.',       # Where to save the data\n",
    "    train=True,     # The training or test dataset\n",
    "    download=True,  # Whether or not to download the data to your computer\n",
    "    transform=transform  # Performs data transformation\n",
    ")\n",
    "\n",
    "test_set = torchvision.datasets.FashionMNIST(\n",
    "    root='.',\n",
    "    train=False,     # The training or test dataset\n",
    "    download=True,\n",
    "    transform=transform\n",
    ")"
   ]
  },
  {
   "cell_type": "code",
   "execution_count": 22,
   "id": "041eae45-9bd4-417f-923d-94c7ccddea9d",
   "metadata": {},
   "outputs": [
    {
     "data": {
      "text/plain": [
       "(60000, 10000)"
      ]
     },
     "execution_count": 22,
     "metadata": {},
     "output_type": "execute_result"
    }
   ],
   "source": [
    "len(train_set), len(test_set)"
   ]
  },
  {
   "cell_type": "code",
   "execution_count": 23,
   "id": "13a22eda-e767-42de-89f2-63bb97deade2",
   "metadata": {},
   "outputs": [
    {
     "name": "stdout",
     "output_type": "stream",
     "text": [
      "<class 'tuple'>\n",
      "torch.Size([1, 28, 28])\n",
      "9\n"
     ]
    }
   ],
   "source": [
    "#print(train_set[0])\n",
    "print(type(train_set[0]))\n",
    "\n",
    "item_first = train_set[0]\n",
    "# Тензор с нормированными пикселями\n",
    "print(item_first[0].shape)\n",
    "# Метка класса\n",
    "print(item_first[1])"
   ]
  },
  {
   "cell_type": "code",
   "execution_count": 24,
   "id": "2e0c86c0-b31a-4f80-9a1b-7ab9e9ea67a0",
   "metadata": {},
   "outputs": [],
   "source": [
    "# Ссылка на название меток для 10-ти классов https://github.com/pranay414/Fashion-MNIST-Pytorch \n",
    "text_labels = [\n",
    "    't-shirt', 'trouser', 'pullover', 'dress', 'coat',\n",
    "    'sandal', 'shirt', 'sneaker', 'bag', 'ankle boot'\n",
    "]"
   ]
  },
  {
   "cell_type": "code",
   "execution_count": 25,
   "id": "7526a844-64e7-4e74-8157-0a65f6b1b175",
   "metadata": {},
   "outputs": [
    {
     "data": {
      "image/png": "[encoded data removed]",
      "text/plain": [
       "<Figure size 2100x900 with 24 Axes>"
      ]
     },
     "metadata": {},
     "output_type": "display_data"
    }
   ],
   "source": [
    "plt.figure(figsize=(7, 3), dpi=300)\n",
    "\n",
    "for i in range(24):\n",
    "    ax = plt.subplot(3, 8, i + 1)\n",
    "    # Тензор с нормироованными пикселями\n",
    "    img = train_set[i][0]\n",
    "    # Масштабировние значений в диапазон [0.0, 1.0]\n",
    "    img = img/2 + 0.5\n",
    "    # Удалить цветовой канал\n",
    "    img = img.reshape(28, 28)\n",
    "    #plt.imshow(img, cmap='gray')\n",
    "    plt.imshow(img, cmap='binary')\n",
    "    plt.axis('off')\n",
    "    plt.title(text_labels[train_set[i][1]], fontsize=6)\n",
    "\n",
    "plt.show();"
   ]
  },
  {
   "cell_type": "code",
   "execution_count": 48,
   "id": "89cbe202-d46e-4d63-b091-9e81b3c4032a",
   "metadata": {},
   "outputs": [
    {
     "data": {
      "text/plain": [
       "'cuda'"
      ]
     },
     "execution_count": 48,
     "metadata": {},
     "output_type": "execute_result"
    }
   ],
   "source": [
    "device = 'cuda' if torch.cuda.is_available() else 'cpu'\n",
    "device"
   ]
  },
  {
   "cell_type": "markdown",
   "id": "48338c77-e419-4fe9-a8b2-33c35ed53f19",
   "metadata": {},
   "source": [
    "# 3. Binary Classification "
   ]
  },
  {
   "cell_type": "code",
   "execution_count": 27,
   "id": "5b949e03-ec29-434a-8ea1-4c650c1e6d47",
   "metadata": {},
   "outputs": [],
   "source": [
    "# Оставаить только картинки с классами 0 и 9 ('t-shirt', 'ankle boot')\n",
    "binary_train_set = [x for x in train_set if x[1] in [0, 9]]\n",
    "binary_test_set = [x for x in test_set if x[1] in [0, 9]]\n",
    "#type(binary_train_set)"
   ]
  },
  {
   "cell_type": "code",
   "execution_count": 28,
   "id": "d1a7cbc5-41a5-4b51-b5bd-cd7dd1c5eda8",
   "metadata": {},
   "outputs": [],
   "source": [
    "batch_size = 64\n",
    "\n",
    "binary_train_loader = torch.utils.data.DataLoader(binary_train_set, batch_size=batch_size, shuffle=True)\n",
    "\n",
    "binary_test_loader = torch.utils.data.DataLoader(binary_test_set, batch_size=batch_size, shuffle=False)"
   ]
  },
  {
   "cell_type": "code",
   "execution_count": 29,
   "id": "207a9b55-5c61-495f-8a38-746ed71319cb",
   "metadata": {},
   "outputs": [],
   "source": [
    "binary_model = nn.Sequential(\n",
    "    nn.Linear(28*28, 256), nn.ReLU(),\n",
    "    nn.Linear(256, 128), nn.ReLU(),\n",
    "    nn.Linear(128, 32), nn.ReLU(),\n",
    "    nn.Linear(32, 1),\n",
    "    nn.Dropout(p=0.25),\n",
    "    # Сжать число на выходе до диапазона [0.0, 1.0]\n",
    "    nn.Sigmoid()\n",
    ").to(device)"
   ]
  },
  {
   "cell_type": "code",
   "execution_count": 30,
   "id": "8112ef83-5f36-40d4-b26b-88668731400f",
   "metadata": {},
   "outputs": [
    {
     "name": "stdout",
     "output_type": "stream",
     "text": [
      "torch.Size([64, 1, 28, 28])\n",
      "torch.Size([64, 784])\n",
      "torch.Size([64, 1])\n"
     ]
    }
   ],
   "source": [
    "# Для себя (чтобы понять)!!!\n",
    "for n, (imgs, labels) in enumerate(binary_train_loader):\n",
    "    print(imgs.shape)\n",
    "    imgs = imgs.reshape(-1, 28*28).to(device)\n",
    "    print(imgs.shape)\n",
    "    preds = binary_model(imgs)\n",
    "    print(preds.shape)\n",
    "    break"
   ]
  },
  {
   "cell_type": "code",
   "execution_count": 31,
   "id": "57eff62b-a856-4ca1-b5b9-4d1ed9cfd332",
   "metadata": {},
   "outputs": [],
   "source": [
    "lr = 0.001\n",
    "optimizer = torch.optim.Adam(binary_model.parameters(), lr=lr)\n",
    "\n",
    "# Binary cross-entropy loss function (Кросс-энтропия для бинарной классификации)\n",
    "loss_fn = nn.BCELoss()"
   ]
  },
  {
   "cell_type": "code",
   "execution_count": 32,
   "id": "d85a4e09-c9e5-4b75-a8cd-50d9f02b24de",
   "metadata": {},
   "outputs": [
    {
     "name": "stdout",
     "output_type": "stream",
     "text": [
      "torch.Size([64])\n",
      "torch.Size([64, 1])\n"
     ]
    }
   ],
   "source": [
    "# Для себя (чтобы понять)!!!\n",
    "for n, (imgs, labels) in enumerate(binary_train_loader):\n",
    "    labels = torch.FloatTensor([x if x == 0 else 1 for x in labels])\n",
    "    print(labels.shape)\n",
    "    # Перевести вектор-строку в вектор-столбец\n",
    "    labels = labels.reshape(-1, 1)\n",
    "    print(labels.shape)\n",
    "    break"
   ]
  },
  {
   "cell_type": "code",
   "execution_count": 33,
   "id": "5be1ca51-c4c0-497a-9b0e-7fbcc9d53850",
   "metadata": {},
   "outputs": [
    {
     "name": "stdout",
     "output_type": "stream",
     "text": [
      "At epoch 1, loss is 0.189157\n",
      "At epoch 2, loss is 0.177363\n",
      "At epoch 3, loss is 0.178287\n",
      "At epoch 4, loss is 0.177172\n",
      "At epoch 5, loss is 0.174322\n",
      "At epoch 6, loss is 0.176676\n",
      "At epoch 7, loss is 0.178214\n",
      "At epoch 8, loss is 0.172668\n",
      "At epoch 9, loss is 0.175615\n",
      "At epoch 10, loss is 0.176358\n",
      "At epoch 11, loss is 0.174672\n",
      "At epoch 12, loss is 0.172333\n",
      "At epoch 13, loss is 0.173442\n",
      "At epoch 14, loss is 0.178992\n",
      "At epoch 15, loss is 0.175346\n",
      "At epoch 16, loss is 0.175668\n",
      "At epoch 17, loss is 0.178153\n",
      "At epoch 18, loss is 0.172940\n",
      "At epoch 19, loss is 0.175952\n",
      "At epoch 20, loss is 0.172361\n",
      "At epoch 21, loss is 0.175893\n",
      "At epoch 22, loss is 0.179195\n",
      "At epoch 23, loss is 0.173924\n",
      "At epoch 24, loss is 0.176994\n",
      "At epoch 25, loss is 0.176473\n",
      "At epoch 26, loss is 0.176125\n",
      "At epoch 27, loss is 0.178210\n",
      "At epoch 28, loss is 0.177341\n",
      "At epoch 29, loss is 0.174851\n",
      "At epoch 30, loss is 0.172187\n",
      "At epoch 31, loss is 0.174793\n",
      "At epoch 32, loss is 0.172881\n",
      "At epoch 33, loss is 0.170159\n",
      "At epoch 34, loss is 0.171781\n",
      "At epoch 35, loss is 0.177457\n",
      "At epoch 36, loss is 0.172534\n",
      "At epoch 37, loss is 0.171897\n",
      "At epoch 38, loss is 0.178036\n",
      "At epoch 39, loss is 0.176299\n",
      "At epoch 40, loss is 0.177631\n",
      "At epoch 41, loss is 0.174098\n",
      "At epoch 42, loss is 0.178847\n",
      "At epoch 43, loss is 0.178905\n",
      "At epoch 44, loss is 0.174445\n",
      "At epoch 45, loss is 0.174793\n",
      "At epoch 46, loss is 0.175140\n",
      "At epoch 47, loss is 0.173982\n",
      "At epoch 48, loss is 0.172592\n",
      "At epoch 49, loss is 0.175603\n",
      "At epoch 50, loss is 0.176704\n"
     ]
    }
   ],
   "source": [
    "n_epoch = 50\n",
    "\n",
    "for epoch in range(n_epoch):\n",
    "    total_loss = 0\n",
    "    for n, (imgs, labels) in enumerate(binary_train_loader):\n",
    "        binary_model.train()\n",
    "        # torch.Size([batch_size, 1, 28, 28]) => torch.Size([batch_size, 784])\n",
    "        imgs = imgs.reshape(-1, 28*28)\n",
    "        imgs = imgs.to(device)\n",
    "        # Метку 9 перевести в 1\n",
    "        labels = torch.FloatTensor([x if x == 0 else 1 for x in labels])\n",
    "        # Перевести вектор-строку в вектор-столбец\n",
    "        labels = labels.reshape(-1, 1).to(device)\n",
    "\n",
    "        preds = binary_model(imgs)    \n",
    "        loss = loss_fn(preds, labels)\n",
    "\n",
    "        # Backpropagation\n",
    "        optimizer.zero_grad()\n",
    "        loss.backward()\n",
    "        optimizer.step()\n",
    "        \n",
    "        total_loss += loss.detach()\n",
    "    \n",
    "    total_loss = total_loss / n\n",
    "    print(f'At epoch {epoch+1}, loss is {total_loss:.6f}')"
   ]
  },
  {
   "cell_type": "code",
   "execution_count": 34,
   "id": "b90dabe5-7239-47b0-8dfb-5d1ab623009c",
   "metadata": {},
   "outputs": [
    {
     "name": "stdout",
     "output_type": "stream",
     "text": [
      "the accuracy of the predictions is 1.000\n"
     ]
    }
   ],
   "source": [
    "results = []\n",
    "for imgs, labels in binary_test_loader:\n",
    "    binary_model.eval()\n",
    "    # torch.Size([batch_size, 1, 28, 28]) => torch.Size([batch_size, 784])\n",
    "    imgs = imgs.reshape(-1, 28*28).to(device)\n",
    "    # Метку 9 перевести в 1\n",
    "    labels = torch.FloatTensor([x if x==0 else 1 for x in labels])\n",
    "    # Перевести вектор-строку в вектор-столбец\n",
    "    labels = (labels).reshape(-1, 1).to(device)\n",
    "    preds = binary_model(imgs)\n",
    "\n",
    "    # Создать вектор-столбец с числами 0 или 1\n",
    "    pred10 = torch.where(preds > 0.5, 1, 0)\n",
    "    correct = (pred10 == labels)\n",
    "    # Вычислить среднее кол-во правильных ответов для batch'а картинок\n",
    "    results.append(\n",
    "        correct.detach().cpu().numpy().mean()\n",
    "    )\n",
    "\n",
    "accuracy = np.array(results).mean()\n",
    "print(f'the accuracy of the predictions is {accuracy:.3f}')"
   ]
  },
  {
   "cell_type": "markdown",
   "id": "fd6d3c59-c04f-4ce0-b36f-f5d06aa96dac",
   "metadata": {},
   "source": [
    "# 4. Multi-Category Classification"
   ]
  },
  {
   "cell_type": "code",
   "execution_count": 35,
   "id": "4c80060f-02a0-49b3-a299-d20a3855b591",
   "metadata": {},
   "outputs": [],
   "source": [
    "batch_size = 64\n",
    "torch.manual_seed(42)\n",
    "\n",
    "# 60000 делим на 50000 и 10000\n",
    "train_set,val_set = torch.utils.data.random_split(train_set, [50000, 10000])\n",
    "\n",
    "train_loader = torch.utils.data.DataLoader(train_set, batch_size=batch_size, shuffle=True)\n",
    "\n",
    "val_loader = torch.utils.data.DataLoader(val_set, batch_size=batch_size, shuffle=False)\n",
    "\n",
    "test_loader = torch.utils.data.DataLoader(test_set, batch_size=batch_size, shuffle=False)"
   ]
  },
  {
   "cell_type": "code",
   "execution_count": 36,
   "id": "f616271b-d08c-40bd-a02e-adad5c6a4c00",
   "metadata": {},
   "outputs": [],
   "source": [
    "# Класс для ранней остановки обучения, если loss\n",
    "# на валидационных даннных перестал уменьшаться\n",
    "class EarlyStop:\n",
    "    def __init__(self, patience=10):\n",
    "        self.patience = patience\n",
    "        self.steps = 0\n",
    "        # Максимально возможное большое число для float\n",
    "        self.min_loss = float('inf')\n",
    "\n",
    "    def stop(self, val_loss):\n",
    "        if val_loss < self.min_loss:\n",
    "            self.min_loss = val_loss\n",
    "            self.steps = 0\n",
    "        elif val_loss >= self.min_loss:\n",
    "            self.steps += 1\n",
    "        # Если за self.patience эпох, значение функции потерь НЕ уменшилось\n",
    "        if self.steps >= self.patience:\n",
    "            return True\n",
    "        else:\n",
    "            return False\n",
    "\n",
    "#stopper = EarlyStop()"
   ]
  },
  {
   "cell_type": "code",
   "execution_count": 37,
   "id": "b8522624-be02-4c92-93a2-99fb2123c94e",
   "metadata": {},
   "outputs": [],
   "source": [
    "model = nn.Sequential(\n",
    "    nn.Linear(28*28, 256), nn.ReLU(),\n",
    "    nn.Linear(256, 128), nn.ReLU(),\n",
    "    nn.Linear(128, 64), nn.ReLU(),\n",
    "    # На выходе 10 чисел, для 10-ти классов\n",
    "    nn.Linear(64, 10)\n",
    ").to(device)"
   ]
  },
  {
   "cell_type": "code",
   "execution_count": 38,
   "id": "5fa20bf3-47d9-4fdf-a7a4-f9d89591d617",
   "metadata": {},
   "outputs": [],
   "source": [
    "lr = 0.001\n",
    "optimizer = torch.optim.Adam(model.parameters(), lr=lr)\n",
    "\n",
    "# Cross-entropy loss function (Кросс-энтропия для многоклассовой классификации)\n",
    "loss_fn = nn.CrossEntropyLoss()\n",
    "\n",
    "# Если использовать nn.LogSoftmax() на выходе в модели, тогда\n",
    "# в качестве функции потерь нужно юзать nn.NLLLoss()!!!\n",
    "# см. пример ниже по коду"
   ]
  },
  {
   "cell_type": "code",
   "execution_count": 39,
   "id": "9b2cb0bc-6fa4-47c9-a906-b536b37ffa9f",
   "metadata": {},
   "outputs": [
    {
     "name": "stdout",
     "output_type": "stream",
     "text": [
      "torch.Size([64])\n",
      "torch.Size([64, 10])\n"
     ]
    }
   ],
   "source": [
    "# Для себя (чтобы понять)!!!\n",
    "for n, (imgs, labels) in enumerate(train_loader):\n",
    "    imgs = imgs.reshape(-1, 28*28).to(device)\n",
    "    labels = labels.reshape(-1,).to(device)\n",
    "    #\n",
    "    preds = model(imgs)\n",
    "    break\n",
    "print(labels.shape)\n",
    "print(preds.shape)"
   ]
  },
  {
   "cell_type": "code",
   "execution_count": 40,
   "id": "55ffb299-5c67-498f-8cb5-44c1ec1aab62",
   "metadata": {},
   "outputs": [],
   "source": [
    "def train_epoch():\n",
    "    model.train()\n",
    "    train_loss = 0\n",
    "    \n",
    "    for n, (imgs, labels) in enumerate(train_loader):\n",
    "        # torch.Size([batch_size, 1, 28, 28]) => torch.Size([batch_size, 784])\n",
    "        imgs = imgs.reshape(-1, 28*28).to(device)\n",
    "        # Перестраховаться, перевести в вектор-строку torch.Size([batch_size])\n",
    "        labels = labels.reshape(-1,).to(device)\n",
    "\n",
    "        # Получили матрицу torch.Size([batch_size, 10])\n",
    "        # 10: Это по одному числу для каждого из 10 классов\n",
    "        preds = model(imgs)    \n",
    "        loss = loss_fn(preds, labels)\n",
    "        \n",
    "        # Backpropagation\n",
    "        optimizer.zero_grad()\n",
    "        loss.backward()    \n",
    "        optimizer.step()\n",
    "\n",
    "        train_loss += loss.detach()\n",
    "    \n",
    "    return train_loss/n  "
   ]
  },
  {
   "cell_type": "code",
   "execution_count": 41,
   "id": "f0f545d2-da4e-4d77-9a51-5f1f29076f0c",
   "metadata": {},
   "outputs": [],
   "source": [
    "def val_epoch():\n",
    "    model.eval()\n",
    "    val_loss = 0\n",
    "\n",
    "    for n, (imgs, labels) in enumerate(val_loader):\n",
    "        # torch.Size([batch_size, 1, 28, 28]) => torch.Size([batch_size, 784])\n",
    "        imgs = imgs.reshape(-1, 28*28).to(device)\n",
    "        # Перестраховаться, перевести в вектор-строку torch.Size([batch_size])\n",
    "        labels = labels.reshape(-1,).to(device)\n",
    "\n",
    "        with torch.no_grad():\n",
    "            # Получили матрицу torch.Size([batch_size, 10])\n",
    "            # 10: Это по одному числу для каждого из 10 классов\n",
    "            preds = model(imgs)\n",
    "            loss = loss_fn(preds,labels)    \n",
    "        \n",
    "        val_loss += loss.detach()\n",
    "    \n",
    "    return val_loss/n "
   ]
  },
  {
   "cell_type": "code",
   "execution_count": 42,
   "id": "247267cb-5a56-4472-85b4-f3c744f96537",
   "metadata": {},
   "outputs": [
    {
     "name": "stdout",
     "output_type": "stream",
     "text": [
      "At epoch 1 =>, train_loss is 0.533790; val_loss is 0.421658\n",
      "At epoch 2 =>, train_loss is 0.383494; val_loss is 0.390120\n",
      "At epoch 3 =>, train_loss is 0.341462; val_loss is 0.369035\n",
      "At epoch 4 =>, train_loss is 0.319737; val_loss is 0.344592\n",
      "At epoch 5 =>, train_loss is 0.298285; val_loss is 0.363239\n",
      "At epoch 6 =>, train_loss is 0.281921; val_loss is 0.331880\n",
      "At epoch 7 =>, train_loss is 0.267157; val_loss is 0.321658\n",
      "At epoch 8 =>, train_loss is 0.256369; val_loss is 0.327903\n",
      "At epoch 9 =>, train_loss is 0.244386; val_loss is 0.352823\n",
      "At epoch 10 =>, train_loss is 0.237009; val_loss is 0.342439\n",
      "At epoch 11 =>, train_loss is 0.222077; val_loss is 0.311968\n",
      "At epoch 12 =>, train_loss is 0.214158; val_loss is 0.323625\n",
      "At epoch 13 =>, train_loss is 0.206082; val_loss is 0.315803\n",
      "At epoch 14 =>, train_loss is 0.197083; val_loss is 0.314229\n",
      "At epoch 15 =>, train_loss is 0.191073; val_loss is 0.367919\n",
      "At epoch 16 =>, train_loss is 0.182970; val_loss is 0.328589\n",
      "At epoch 17 =>, train_loss is 0.174796; val_loss is 0.338043\n",
      "At epoch 18 =>, train_loss is 0.167441; val_loss is 0.347622\n",
      "At epoch 19 =>, train_loss is 0.163280; val_loss is 0.358751\n",
      "At epoch 20 =>, train_loss is 0.157082; val_loss is 0.348395\n",
      "At epoch 21 =>, train_loss is 0.149267; val_loss is 0.377283\n"
     ]
    }
   ],
   "source": [
    "stopper = EarlyStop()\n",
    "n_epoch = 100\n",
    "\n",
    "for epoch in range(1, n_epoch+1):    \n",
    "    train_loss = train_epoch()\n",
    "    val_loss = val_epoch()\n",
    "\n",
    "    print(f'At epoch {epoch} =>, train_loss is {train_loss:.6f}; val_loss is {val_loss:.6f}')\n",
    "    # Ранняя остановка обучения\n",
    "    if stopper.stop(val_loss) == True:             \n",
    "        break"
   ]
  },
  {
   "cell_type": "code",
   "execution_count": 43,
   "id": "468724b9-2ddb-4ec3-82c2-bf3bd0458e28",
   "metadata": {},
   "outputs": [
    {
     "data": {
      "image/png": "[encoded data removed]",
      "text/plain": [
       "<Figure size 1200x300 with 5 Axes>"
      ]
     },
     "metadata": {},
     "output_type": "display_data"
    },
    {
     "name": "stdout",
     "output_type": "stream",
     "text": [
      "The label is 9; the prediction is 9\n",
      "The label is 2; the prediction is 2\n",
      "The label is 1; the prediction is 1\n",
      "The label is 1; the prediction is 1\n",
      "The label is 6; the prediction is 6\n"
     ]
    }
   ],
   "source": [
    "plt.figure(figsize=(4, 1), dpi=300)\n",
    "\n",
    "for i in range(5):\n",
    "    ax=plt.subplot(1, 5, i + 1)    \n",
    "    # Тензор с нормироованными пикселями\n",
    "    img = test_set[i][0]    \n",
    "    # Масштабировние значений в диапазон [0.0, 1.0]    \n",
    "    img=img/2 + 0.5    \n",
    "    # Удалить цветовой канал\n",
    "    img=img.reshape(28, 28)    \n",
    "    label = test_set[i][1]\n",
    "    #plt.imshow(img, cmap='gray')\n",
    "    plt.imshow(img, cmap='binary')\n",
    "    plt.axis('off')\n",
    "    plt.title(f'{text_labels[label]}: {label}', fontsize=4)\n",
    "plt.show();\n",
    "\n",
    "model.eval()\n",
    "for i in range(5):\n",
    "    img, label = test_set[i]\n",
    "    # torch.Size([1, 28, 28]) => torch.Size([1, 784])\n",
    "    img = img.reshape(-1, 28*28).to(device)\n",
    "    # Получили матрицу torch.Size([1, 10])\n",
    "    pred = model(img)\n",
    "    # Получить индекс массива с максимальным значением\n",
    "    # dim=1: По каждой строке (свертка колонок)\n",
    "    index_pred = torch.argmax(pred, dim=1)\n",
    "    idx = index_pred.item()\n",
    "    print(f'The label is {label}; the prediction is {idx}');"
   ]
  },
  {
   "cell_type": "code",
   "execution_count": 44,
   "id": "74220de6-f298-4718-a31b-ab0e3156232c",
   "metadata": {},
   "outputs": [
    {
     "name": "stdout",
     "output_type": "stream",
     "text": [
      "The accuracy of the predictions is 0.884\n"
     ]
    }
   ],
   "source": [
    "model.eval()\n",
    "results = []\n",
    "\n",
    "for imgs,labels in test_loader:\n",
    "    # torch.Size([batch_size, 1, 28, 28]) => torch.Size([batch_size, 784])\n",
    "    imgs = imgs.reshape(-1, 28*28).to(device)\n",
    "    # Перестраховаться, перевести в вектор-строку torch.Size([batch_size])\n",
    "    labels = labels.reshape(-1,).to(device)\n",
    "\n",
    "    # Получили матрицу torch.Size([batch_size, 10])\n",
    "    # 10: Это по одному числу для каждого из 10 классов\n",
    "    preds = model(imgs)\n",
    "\n",
    "    # Получить индексы массивов с максимальным значением\n",
    "    # dim=1: По каждой строке (свертка колонок)\n",
    "    pred10 = torch.argmax(preds, dim=1)\n",
    "    \n",
    "    correct = (pred10==labels)\n",
    "    # Вычислить среднее кол-во правильных ответов для batch'а картинок\n",
    "    results.append(\n",
    "        correct.detach().cpu().numpy().mean()\n",
    "    )\n",
    "    \n",
    "accuracy = np.array(results).mean()\n",
    "\n",
    "print(f'The accuracy of the predictions is {accuracy:.3f}')"
   ]
  },
  {
   "cell_type": "markdown",
   "id": "ed45d0e7-c24e-4433-b554-204e69817a3d",
   "metadata": {},
   "source": [
    "# 5. LogSoftmax"
   ]
  },
  {
   "cell_type": "code",
   "execution_count": 45,
   "id": "164d22da-9d60-41e9-8bfc-78b4499c4557",
   "metadata": {},
   "outputs": [],
   "source": [
    "# Демонстрация того, что nn.CrossEntropyLoss() объединяет\n",
    "# nn.LogSoftmax() и nn.NLLLoss()\n",
    "\n",
    "model = nn.Sequential(\n",
    "    nn.Linear(28*28, 256), nn.ReLU(),\n",
    "    nn.Linear(256, 128), nn.ReLU(),\n",
    "    nn.Linear(128, 64), nn.ReLU(),\n",
    "    nn.Linear(64, 10),\n",
    "    # LogSoftmax activation\n",
    "    nn.LogSoftmax(dim=1)\n",
    ").to(device)\n",
    "\n",
    "lr = 0.001\n",
    "optimizer = torch.optim.Adam(model.parameters(), lr=lr)\n",
    "\n",
    "# Negative log likelihood loss NLLLoss()\n",
    "loss_fn = nn.NLLLoss()"
   ]
  },
  {
   "cell_type": "code",
   "execution_count": 46,
   "id": "6cd1c22c-c340-44cf-9953-9ba2fe6cbce5",
   "metadata": {},
   "outputs": [
    {
     "name": "stdout",
     "output_type": "stream",
     "text": [
      "At epoch 1 =>, train_loss is 0.539346; val_loss is 0.443229\n",
      "At epoch 2 =>, train_loss is 0.386566; val_loss is 0.395284\n",
      "At epoch 3 =>, train_loss is 0.346767; val_loss is 0.378477\n",
      "At epoch 4 =>, train_loss is 0.320013; val_loss is 0.352477\n",
      "At epoch 5 =>, train_loss is 0.300891; val_loss is 0.336025\n",
      "At epoch 6 =>, train_loss is 0.281791; val_loss is 0.345366\n",
      "At epoch 7 =>, train_loss is 0.265596; val_loss is 0.336004\n",
      "At epoch 8 =>, train_loss is 0.255451; val_loss is 0.324615\n",
      "At epoch 9 =>, train_loss is 0.244829; val_loss is 0.315383\n",
      "At epoch 10 =>, train_loss is 0.231885; val_loss is 0.347887\n",
      "At epoch 11 =>, train_loss is 0.220915; val_loss is 0.321235\n",
      "At epoch 12 =>, train_loss is 0.213562; val_loss is 0.341978\n",
      "At epoch 13 =>, train_loss is 0.205545; val_loss is 0.319926\n",
      "At epoch 14 =>, train_loss is 0.195652; val_loss is 0.317619\n",
      "At epoch 15 =>, train_loss is 0.186805; val_loss is 0.343296\n",
      "At epoch 16 =>, train_loss is 0.180534; val_loss is 0.344482\n",
      "At epoch 17 =>, train_loss is 0.171776; val_loss is 0.337688\n",
      "At epoch 18 =>, train_loss is 0.164709; val_loss is 0.352203\n",
      "At epoch 19 =>, train_loss is 0.158846; val_loss is 0.372099\n"
     ]
    }
   ],
   "source": [
    "stopper = EarlyStop()\n",
    "n_epoch = 100\n",
    "\n",
    "for epoch in range(1, n_epoch+1):    \n",
    "    train_loss = train_epoch()\n",
    "    val_loss = val_epoch()\n",
    "\n",
    "    print(f'At epoch {epoch} =>, train_loss is {train_loss:.6f}; val_loss is {val_loss:.6f}')\n",
    "    # Ранняя остановка обучения\n",
    "    if stopper.stop(val_loss) == True:             \n",
    "        break"
   ]
  },
  {
   "cell_type": "code",
   "execution_count": 47,
   "id": "45505583-6ad1-4702-a9e3-f092a03ab514",
   "metadata": {},
   "outputs": [
    {
     "name": "stdout",
     "output_type": "stream",
     "text": [
      "The accuracy of the predictions is 0.882\n"
     ]
    }
   ],
   "source": [
    "model.eval()\n",
    "results = []\n",
    "\n",
    "for imgs,labels in test_loader:\n",
    "    imgs = imgs.reshape(-1, 28*28).to(device)\n",
    "    labels = labels.reshape(-1,).to(device)\n",
    "    preds = model(imgs)\n",
    "    pred10 = torch.argmax(preds, dim=1)\n",
    "    correct = (pred10==labels)\n",
    "    results.append(\n",
    "        correct.detach().cpu().numpy().mean()\n",
    "    )\n",
    "    \n",
    "accuracy = np.array(results).mean()\n",
    "\n",
    "print(f'The accuracy of the predictions is {accuracy:.3f}')"
   ]
  },
  {
   "cell_type": "code",
   "execution_count": null,
   "id": "6b928ef6-3455-4b08-844c-9fea8645edb4",
   "metadata": {},
   "outputs": [],
   "source": []
  }
 ],
 "metadata": {
  "kernelspec": {
   "display_name": "Python (dgai)",
   "language": "python",
   "name": "dgai"
  },
  "language_info": {
   "codemirror_mode": {
    "name": "ipython",
    "version": 3
   },
   "file_extension": ".py",
   "mimetype": "text/x-python",
   "name": "python",
   "nbconvert_exporter": "python",
   "pygments_lexer": "ipython3",
   "version": "3.12.7"
  }
 },
 "nbformat": 4,
 "nbformat_minor": 5
}
