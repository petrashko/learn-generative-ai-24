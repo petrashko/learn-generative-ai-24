{
 "cells": [
  {
   "cell_type": "code",
   "execution_count": 1,
   "id": "f0d5c7cc-4b19-4007-939f-1cb34a3f6ceb",
   "metadata": {},
   "outputs": [],
   "source": [
    "#import sys\n",
    "import os\n",
    "sep = os.sep\n",
    "# Добавить в путь до родительской папки\\n\",\n",
    "#sys.path.append(os.path.join(sys.path[0], f'..{sep}'))\n",
    "#sys.path.append(os.path.join(os.getcwd(), f'..{sep}'))"
   ]
  },
  {
   "cell_type": "code",
   "execution_count": 2,
   "id": "19f49836-914d-4f53-aaf8-502743fa2d1f",
   "metadata": {},
   "outputs": [],
   "source": [
    "from copy import deepcopy\n",
    "#\n",
    "import numpy as np\n",
    "import matplotlib.pyplot as plt\n",
    "#\n",
    "import torch\n",
    "import torch.nn as nn\n",
    "from torch.utils.data import DataLoader\n",
    "#\n",
    "\n",
    "%matplotlib inline"
   ]
  },
  {
   "cell_type": "code",
   "execution_count": 3,
   "id": "5eaa05fc-24e1-4c05-a7ad-d11642cfeb9d",
   "metadata": {},
   "outputs": [
    {
     "data": {
      "text/plain": [
       "'cuda'"
      ]
     },
     "execution_count": 3,
     "metadata": {},
     "output_type": "execute_result"
    }
   ],
   "source": [
    "device = 'cuda' if torch.cuda.is_available() else 'cpu'\n",
    "device"
   ]
  },
  {
   "cell_type": "markdown",
   "id": "dac5d2af-c6fa-45fd-9fa2-8d03d56dbe71",
   "metadata": {},
   "source": [
    "# 1 Introduction to Transformers and Attention"
   ]
  },
  {
   "cell_type": "code",
   "execution_count": 4,
   "id": "41ab1f82-cdb1-4629-8678-a1349d4625cb",
   "metadata": {},
   "outputs": [],
   "source": [
    "pass"
   ]
  },
  {
   "cell_type": "markdown",
   "id": "eb4368fa-fac5-4eda-8529-bca2391718bc",
   "metadata": {},
   "source": [
    "# 2 Build an encoder"
   ]
  },
  {
   "cell_type": "code",
   "execution_count": 5,
   "id": "9bef1e34-e192-44bd-857e-798ae2964c89",
   "metadata": {},
   "outputs": [],
   "source": [
    "pass"
   ]
  },
  {
   "cell_type": "markdown",
   "id": "d63586fb-2c52-45f5-8a7d-ce9e2448a691",
   "metadata": {},
   "source": [
    "## 2.1 The Attention Mechanism"
   ]
  },
  {
   "cell_type": "code",
   "execution_count": 1,
   "id": "ba59f1f9-c54d-4b83-bfe0-aaff5626b558",
   "metadata": {},
   "outputs": [
    {
     "ename": "SyntaxError",
     "evalue": "invalid syntax (1744884454.py, line 1)",
     "output_type": "error",
     "traceback": [
      "\u001b[1;36m  Cell \u001b[1;32mIn[1], line 1\u001b[1;36m\u001b[0m\n\u001b[1;33m    ```python\u001b[0m\n\u001b[1;37m    ^\u001b[0m\n\u001b[1;31mSyntaxError\u001b[0m\u001b[1;31m:\u001b[0m invalid syntax\n"
     ]
    }
   ],
   "source": [
    "```python\n",
    "def attention(query, key, value, mask=None, dropout=None):\n",
    "    d_k = query.size(-1)\n",
    "    scores = torch.matmul(query, key.transpose(-2, -1)) / math.sqrt(d_k)\n",
    "    if mask is not None:\n",
    "        scores = scores.masked_fill(mask == 0, -1e9)\n",
    "    \n",
    "    p_attn = nn.functional.softmax(scores, dim=-1)\n",
    "    if dropout is not None:\n",
    "        p_attn = dropout(p_attn)\n",
    "    return torch.matmul(p_attn, value), p_attn\n",
    "```"
   ]
  },
  {
   "cell_type": "code",
   "execution_count": null,
   "id": "1d90db79-760a-45dd-922d-918b071749c0",
   "metadata": {},
   "outputs": [],
   "source": []
  }
 ],
 "metadata": {
  "kernelspec": {
   "display_name": "Python (dgai)",
   "language": "python",
   "name": "dgai"
  },
  "language_info": {
   "codemirror_mode": {
    "name": "ipython",
    "version": 3
   },
   "file_extension": ".py",
   "mimetype": "text/x-python",
   "name": "python",
   "nbconvert_exporter": "python",
   "pygments_lexer": "ipython3",
   "version": "3.12.7"
  }
 },
 "nbformat": 4,
 "nbformat_minor": 5
}
